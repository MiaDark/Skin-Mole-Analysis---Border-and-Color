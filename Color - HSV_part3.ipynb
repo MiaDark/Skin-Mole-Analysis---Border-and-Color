{
 "cells": [
  {
   "cell_type": "code",
   "execution_count": 2,
   "id": "f93e19fd-3fb6-45fd-90e4-d1e77a9409ed",
   "metadata": {},
   "outputs": [],
   "source": [
    "import pandas as pd\n",
    "results_df = pd.read_csv('Results/hausdorff_dimensions - HSV.csv')"
   ]
  },
  {
   "cell_type": "code",
   "execution_count": 3,
   "id": "daa98218-f161-4850-b463-7d0597ffde54",
   "metadata": {},
   "outputs": [],
   "source": [
    "from scipy.stats import ttest_ind, mannwhitneyu, ks_2samp"
   ]
  },
  {
   "cell_type": "code",
   "execution_count": 5,
   "id": "491696c0-9dbb-4e58-8a00-2f8646a17fb8",
   "metadata": {},
   "outputs": [
    {
     "name": "stdout",
     "output_type": "stream",
     "text": [
      "Shapiro-Wilk test for Mole Dimensions:\n",
      "Benign: Statistic = 0.9513808890551118, P-value = 0.01443240878922426\n",
      "Malignant: Statistic = 0.9491524445958296, P-value = 0.08350173870806059\n",
      "\n",
      "Shapiro-Wilk test for Border Dimensions:\n",
      "Benign: Statistic = 0.9889226153237349, P-value = 0.844191665524672\n",
      "Malignant: Statistic = 0.9717961692373341, P-value = 0.4421826220817168\n",
      "\n",
      "Kolmogorov-Smirnov test for Mole Dimensions:\n",
      "Statistic: 0.2928153717627402, P-value: 0.026505830185109873\n",
      "\n",
      "Kolmogorov-Smirnov test for Border Dimensions:\n",
      "Statistic: 0.4402673350041771, P-value: 0.0001172707947570945\n",
      "\n"
     ]
    }
   ],
   "source": [
    "import pandas as pd\n",
    "from scipy.stats import shapiro, ks_2samp\n",
    "\n",
    "benign_dims = results_df[results_df['Type'] == 'Benign']\n",
    "malignant_dims = results_df[results_df['Type'] == 'Malignant']\n",
    "\n",
    "benign_mole_dims = benign_dims['Mole_Hausdorff_Dim'].values\n",
    "benign_border_dims = benign_dims['Border_Hausdorff_Dim'].values\n",
    "malignant_mole_dims = malignant_dims['Mole_Hausdorff_Dim'].values\n",
    "malignant_border_dims = malignant_dims['Border_Hausdorff_Dim'].values\n",
    "\n",
    "# Shapiro-Wilk Test for Mole Dimensions\n",
    "shapiro_benign_mole = shapiro(benign_mole_dims)\n",
    "shapiro_malignant_mole = shapiro(malignant_mole_dims)\n",
    "\n",
    "print(\"Shapiro-Wilk test for Mole Dimensions:\")\n",
    "print(f\"Benign: Statistic = {shapiro_benign_mole.statistic}, P-value = {shapiro_benign_mole.pvalue}\")\n",
    "print(f\"Malignant: Statistic = {shapiro_malignant_mole.statistic}, P-value = {shapiro_malignant_mole.pvalue}\\n\")\n",
    "\n",
    "# Shapiro-Wilk Test for Border Dimensions\n",
    "shapiro_benign_border = shapiro(benign_border_dims)\n",
    "shapiro_malignant_border = shapiro(malignant_border_dims)\n",
    "\n",
    "print(\"Shapiro-Wilk test for Border Dimensions:\")\n",
    "print(f\"Benign: Statistic = {shapiro_benign_border.statistic}, P-value = {shapiro_benign_border.pvalue}\")\n",
    "print(f\"Malignant: Statistic = {shapiro_malignant_border.statistic}, P-value = {shapiro_malignant_border.pvalue}\\n\")\n",
    "\n",
    "# Kolmogorov-Smirnov Test for Mole Dimensions\n",
    "ks_mole = ks_2samp(benign_mole_dims, malignant_mole_dims)\n",
    "print(\"Kolmogorov-Smirnov test for Mole Dimensions:\")\n",
    "print(f\"Statistic: {ks_mole.statistic}, P-value: {ks_mole.pvalue}\\n\")\n",
    "\n",
    "# Kolmogorov-Smirnov Test for Border Dimensions\n",
    "ks_border = ks_2samp(benign_border_dims, malignant_border_dims)\n",
    "print(\"Kolmogorov-Smirnov test for Border Dimensions:\")\n",
    "print(f\"Statistic: {ks_border.statistic}, P-value: {ks_border.pvalue}\\n\")\n"
   ]
  },
  {
   "cell_type": "code",
   "execution_count": 6,
   "id": "b704d1db-8df0-492e-b7ec-49d6de8075ea",
   "metadata": {},
   "outputs": [
    {
     "name": "stdout",
     "output_type": "stream",
     "text": [
      "One-Sample Kolmogorov-Smirnov test for Benign Mole Hausdorff Dimensions:\n",
      "Statistic: 0.10474972639437424, P-value: 0.4628823323032947\n",
      "\n",
      "One-Sample Kolmogorov-Smirnov test for Benign Border Hausdorff Dimensions:\n",
      "Statistic: 0.05755552135078701, P-value: 0.9774080112377901\n",
      "\n"
     ]
    }
   ],
   "source": [
    "from scipy.stats import kstest\n",
    "ks_benign_mole = kstest(benign_mole_dims, 'norm', args=(benign_mole_dims.mean(), benign_mole_dims.std()))\n",
    "\n",
    "# One-Sample Kolmogorov-Smirnov Test for Border Hausdorff Dimensions against normal distribution\n",
    "ks_benign_border = kstest(benign_border_dims, 'norm', args=(benign_border_dims.mean(), benign_border_dims.std()))\n",
    "\n",
    "# Print results\n",
    "print(\"One-Sample Kolmogorov-Smirnov test for Benign Mole Hausdorff Dimensions:\")\n",
    "print(f\"Statistic: {ks_benign_mole.statistic}, P-value: {ks_benign_mole.pvalue}\\n\")\n",
    "\n",
    "print(\"One-Sample Kolmogorov-Smirnov test for Benign Border Hausdorff Dimensions:\")\n",
    "print(f\"Statistic: {ks_benign_border.statistic}, P-value: {ks_benign_border.pvalue}\\n\")"
   ]
  },
  {
   "cell_type": "code",
   "execution_count": 13,
   "id": "e0f13eff-2397-47ed-9ade-1f01664f6c71",
   "metadata": {},
   "outputs": [
    {
     "name": "stdout",
     "output_type": "stream",
     "text": [
      "Mann-Whitney U test for Mole Dimensions:\n",
      "Statistic: 1507.0, P-value: 0.030033583845572087\n",
      "\n"
     ]
    }
   ],
   "source": [
    "# Mann-Whitney U Test for Mole Dimensions\n",
    "mannwhitney_mole = mannwhitneyu(benign_mole_dims, malignant_mole_dims)\n",
    "print(\"Mann-Whitney U test for Mole Dimensions:\")\n",
    "print(f\"Statistic: {mannwhitney_mole.statistic}, P-value: {mannwhitney_mole.pvalue}\\n\")"
   ]
  },
  {
   "cell_type": "code",
   "execution_count": 14,
   "id": "b8169d7e-a8b7-43b0-83f2-adc3976445db",
   "metadata": {},
   "outputs": [
    {
     "name": "stdout",
     "output_type": "stream",
     "text": [
      "Mann-Whitney U test for Mole Dimensions:\n",
      "Statistic: 1507.0, P-value: 1.4993821801995776e-05\n",
      "\n"
     ]
    }
   ],
   "source": [
    "# Mann-Whitney U Test for Mole Dimensions\n",
    "mannwhitney_border = mannwhitneyu(benign_border_dims, malignant_border_dims)\n",
    "print(\"Mann-Whitney U test for Mole Dimensions:\")\n",
    "print(f\"Statistic: {mannwhitney_mole.statistic}, P-value: {mannwhitney_border.pvalue}\\n\")"
   ]
  },
  {
   "cell_type": "code",
   "execution_count": 18,
   "id": "8529be65-e30e-4081-9f89-bfdc3ce36cef",
   "metadata": {},
   "outputs": [],
   "source": [
    "def display_image(image, title=\"Image\"):\n",
    "    plt.imshow(cv2.cvtColor(image, cv2.COLOR_BGR2RGB)) \n",
    "    plt.title(title)\n",
    "    plt.axis('off')\n",
    "    plt.show()"
   ]
  },
  {
   "cell_type": "code",
   "execution_count": 24,
   "id": "ecae2fad-8996-45d1-b8d7-00966b51c219",
   "metadata": {},
   "outputs": [],
   "source": [
    "def extract_hsv_features_with_visualization(input_dir, label):\n",
    "    hsv_features = []\n",
    "    \n",
    "    for filename in tqdm(os.listdir(input_dir)):\n",
    "        if filename.endswith(('.jpg', '.png', '.jpeg')):\n",
    "            image_path = os.path.join(input_dir, filename)\n",
    "            image = cv2.imread(image_path)\n",
    "\n",
    "            display_image(image, title=f\"Original Image - {filename}\")\n",
    "\n",
    "            hsv_image = cv2.cvtColor(image, cv2.COLOR_BGR2HSV)\n",
    "\n",
    "            display_image(hsv_image[:, :, 0], title=f\"H Channel - {filename}\")\n",
    "            display_image(hsv_image[:, :, 1], title=f\"S Channel - {filename}\")\n",
    "            display_image(hsv_image[:, :, 2], title=f\"V Channel - {filename}\")\n",
    "\n",
    "            lower_black = np.array([0, 0, 0])       \n",
    "            upper_black = np.array([180, 255, 30])  \n",
    "            black_mask = cv2.inRange(cv2.cvtColor(image, cv2.COLOR_BGR2HSV), lower_black, upper_black)\n",
    "\n",
    "            display_image(black_mask, title=f\"Black Mask - {filename}\")\n",
    "\n",
    "            valid_hsv_values = hsv_image[black_mask == 0]  \n",
    "\n",
    "            if valid_hsv_values.size > 0:  \n",
    "                h_channel = valid_hsv_values[:, 0]\n",
    "                s_channel = valid_hsv_values[:, 1]\n",
    "                v_channel = valid_hsv_values[:, 2]\n",
    "\n",
    "                mean_h = np.mean(h_channel)\n",
    "                median_h = np.median(h_channel)\n",
    "                std_h = np.std(h_channel)\n",
    "                min_h = np.min(h_channel)\n",
    "                max_h = np.max(h_channel)\n",
    "\n",
    "                mean_s = np.mean(s_channel)\n",
    "                median_s = np.median(s_channel)\n",
    "                std_s = np.std(s_channel)\n",
    "                min_s = np.min(s_channel)\n",
    "                max_s = np.max(s_channel)\n",
    "\n",
    "                mean_v = np.mean(v_channel)\n",
    "                median_v = np.median(v_channel)\n",
    "                std_v = np.std(v_channel)\n",
    "                min_v = np.min(v_channel)\n",
    "                max_v = np.max(v_channel)\n",
    "\n",
    "                hsv_features.append({\n",
    "                    'filename': filename,\n",
    "                    'label': label,\n",
    "                    'mean_h': mean_h,\n",
    "                    'median_h': median_h,\n",
    "                    'std_h': std_h,\n",
    "                    'min_h': min_h,\n",
    "                    'max_h': max_h,\n",
    "                    'mean_s': mean_s,\n",
    "                    'median_s': median_s,\n",
    "                    'std_s': std_s,\n",
    "                    'min_s': min_s,\n",
    "                    'max_s': max_s,\n",
    "                    'mean_v': mean_v,\n",
    "                    'median_v': median_v,\n",
    "                    'std_v': std_v,\n",
    "                    'min_v': min_v,\n",
    "                    'max_v': max_v\n",
    "                })\n",
    "    \n",
    "    return hsv_features"
   ]
  },
  {
   "cell_type": "code",
   "execution_count": 7,
   "id": "29509444-339c-4e82-8517-c3dd49fc3bb0",
   "metadata": {},
   "outputs": [
    {
     "ename": "NameError",
     "evalue": "name 'extract_hsv_features_with_visualization' is not defined",
     "output_type": "error",
     "traceback": [
      "\u001b[1;31m---------------------------------------------------------------------------\u001b[0m",
      "\u001b[1;31mNameError\u001b[0m                                 Traceback (most recent call last)",
      "Cell \u001b[1;32mIn[7], line 4\u001b[0m\n\u001b[0;32m      1\u001b[0m benign_dir \u001b[38;5;241m=\u001b[39m \u001b[38;5;124mr\u001b[39m\u001b[38;5;124m\"\u001b[39m\u001b[38;5;124mC:\u001b[39m\u001b[38;5;124m\\\u001b[39m\u001b[38;5;124mUsers\u001b[39m\u001b[38;5;124m\\\u001b[39m\u001b[38;5;124mMia\u001b[39m\u001b[38;5;124m\\\u001b[39m\u001b[38;5;124mDesktop\u001b[39m\u001b[38;5;124m\\\u001b[39m\u001b[38;5;124mkpgm\u001b[39m\u001b[38;5;124m\\\u001b[39m\u001b[38;5;124mBenign\u001b[39m\u001b[38;5;124m\\\u001b[39m\u001b[38;5;124mHSV\u001b[39m\u001b[38;5;124m\"\u001b[39m\n\u001b[0;32m      2\u001b[0m malignant_dir \u001b[38;5;241m=\u001b[39m \u001b[38;5;124mr\u001b[39m\u001b[38;5;124m\"\u001b[39m\u001b[38;5;124mC:\u001b[39m\u001b[38;5;124m\\\u001b[39m\u001b[38;5;124mUsers\u001b[39m\u001b[38;5;124m\\\u001b[39m\u001b[38;5;124mMia\u001b[39m\u001b[38;5;124m\\\u001b[39m\u001b[38;5;124mDesktop\u001b[39m\u001b[38;5;124m\\\u001b[39m\u001b[38;5;124mkpgm\u001b[39m\u001b[38;5;124m\\\u001b[39m\u001b[38;5;124mMalignant\u001b[39m\u001b[38;5;124m\\\u001b[39m\u001b[38;5;124mHSV\u001b[39m\u001b[38;5;124m\"\u001b[39m\n\u001b[1;32m----> 4\u001b[0m benign_features \u001b[38;5;241m=\u001b[39m extract_hsv_features_with_visualization(benign_dir, \u001b[38;5;124m'\u001b[39m\u001b[38;5;124mbenign\u001b[39m\u001b[38;5;124m'\u001b[39m)\n\u001b[0;32m      5\u001b[0m malignant_features \u001b[38;5;241m=\u001b[39m extract_hsv_features_with_visualization(malignant_dir, \u001b[38;5;124m'\u001b[39m\u001b[38;5;124mmalignant\u001b[39m\u001b[38;5;124m'\u001b[39m)\n\u001b[0;32m      7\u001b[0m all_features \u001b[38;5;241m=\u001b[39m benign_features \u001b[38;5;241m+\u001b[39m malignant_features\n",
      "\u001b[1;31mNameError\u001b[0m: name 'extract_hsv_features_with_visualization' is not defined"
     ]
    }
   ],
   "source": [
    "benign_dir = r\"C:\\Users\\Mia\\Desktop\\kpgm\\Benign\\HSV\"\n",
    "malignant_dir = r\"C:\\Users\\Mia\\Desktop\\kpgm\\Malignant\\HSV\"\n",
    "\n",
    "benign_features = extract_hsv_features_with_visualization(benign_dir, 'benign')\n",
    "malignant_features = extract_hsv_features_with_visualization(malignant_dir, 'malignant')\n",
    "\n",
    "all_features = benign_features + malignant_features\n",
    "features_df = pd.DataFrame(all_features)\n",
    "\n",
    "output_csv = r\"C:\\Users\\Mia\\Desktop\\mole_hsv_features_with_visuals_new.csv\"\n",
    "features_df.to_csv(output_csv, index=False)\n",
    "\n",
    "print(\"HSV features extracted and saved to:\", output_csv)"
   ]
  },
  {
   "cell_type": "markdown",
   "id": "68c586dd-8c9e-4397-861e-a6f772c8329d",
   "metadata": {},
   "source": [
    "## Analysis on images preprocessed with XYZ ##"
   ]
  },
  {
   "cell_type": "code",
   "execution_count": 9,
   "id": "dbc40fb5-be85-40c6-bee8-9ee2a403b58e",
   "metadata": {},
   "outputs": [
    {
     "name": "stdout",
     "output_type": "stream",
     "text": [
      "Significant Results:\n",
      "     Feature Test Type Test Statistic   P-value\n",
      "3      min_h    t-test       5.570081       0.0\n",
      "4      max_h    t-test      -3.985997  0.000129\n",
      "5     mean_s    t-test       3.964945  0.000139\n",
      "6   median_s    t-test         4.1175  0.000079\n",
      "8      min_s    t-test       6.148547       0.0\n",
      "12     std_v    t-test      -2.060754  0.041949\n",
      "14     max_v    t-test      -2.686521  0.008469\n",
      "\n",
      "All Results:\n",
      "     Feature Test Type Test Statistic   P-value\n",
      "0     mean_h    t-test       1.401406   0.16422\n",
      "1   median_h    t-test       1.765372  0.080585\n",
      "2      std_h    t-test      -0.482911  0.630225\n",
      "3      min_h    t-test       5.570081       0.0\n",
      "4      max_h    t-test      -3.985997  0.000129\n",
      "5     mean_s    t-test       3.964945  0.000139\n",
      "6   median_s    t-test         4.1175  0.000079\n",
      "7      std_s    t-test      -1.770394   0.07974\n",
      "8      min_s    t-test       6.148547       0.0\n",
      "9      max_s    t-test      -1.388787  0.168014\n",
      "10    mean_v    t-test        0.25862  0.796466\n",
      "11  median_v    t-test       0.005669  0.995488\n",
      "12     std_v    t-test      -2.060754  0.041949\n",
      "13     min_v    t-test            NaN       NaN\n",
      "14     max_v    t-test      -2.686521  0.008469\n"
     ]
    },
    {
     "name": "stderr",
     "output_type": "stream",
     "text": [
      "C:\\Users\\Mia\\anaconda3\\Lib\\site-packages\\scipy\\stats\\_axis_nan_policy.py:573: RuntimeWarning: Precision loss occurred in moment calculation due to catastrophic cancellation. This occurs when the data are nearly identical. Results may be unreliable.\n",
      "  res = hypotest_fun_out(*samples, **kwds)\n"
     ]
    }
   ],
   "source": [
    "features = ['mean', 'median', 'std', 'min', 'max']\n",
    "features_df = pd.read_csv(r\"C:\\Users\\Mia\\Desktop\\mole_hsv_features_with_visuals_new.csv\")\n",
    "statistical_results_hsv = {}\n",
    "\n",
    "channels_hsv = ['h', 's', 'v']\n",
    "\n",
    "for channel in channels_hsv:\n",
    "    for feature in features:\n",
    "        column_name = f'{feature}_{channel}'\n",
    "\n",
    "        benign_values = features_df[features_df['label'] == 'benign'][column_name]\n",
    "        malignant_values = features_df[features_df['label'] == 'malignant'][column_name]\n",
    "        \n",
    "        # Kolmogorov-Smirnov test to check normality\n",
    "        ks_stat_benign, p_value_benign = ks_2samp(benign_values, benign_values)\n",
    "        ks_stat_malignant, p_value_malignant = ks_2samp(malignant_values, malignant_values)\n",
    "        \n",
    "        if p_value_benign > 0.05 and p_value_malignant > 0.05:\n",
    "            # If normal distribution, perform t-test\n",
    "            stat, p_value = ttest_ind(benign_values, malignant_values)\n",
    "            test_type = \"t-test\"\n",
    "        else:\n",
    "            # If not normally distributed, perform Mann-Whitney U test\n",
    "            stat, p_value = mannwhitneyu(benign_values, malignant_values)\n",
    "            test_type = \"Mann-Whitney U\"\n",
    "        \n",
    "        statistical_results_hsv[column_name] = {\n",
    "            'test_type': test_type,\n",
    "            'statistic': stat,\n",
    "            'p_value': p_value\n",
    "        }\n",
    "\n",
    "results_df_hsv = pd.DataFrame(statistical_results_hsv).T\n",
    "results_df_hsv.reset_index(inplace=True)\n",
    "results_df_hsv.columns = ['Feature', 'Test Type', 'Test Statistic', 'P-value']\n",
    "\n",
    "significant_results_hsv = results_df_hsv[results_df_hsv['P-value'] < 0.05]\n",
    "\n",
    "print(\"Significant Results:\")\n",
    "print(significant_results_hsv)\n",
    "\n",
    "print(\"\\nAll Results:\")\n",
    "print(results_df_hsv)\n"
   ]
  },
  {
   "cell_type": "code",
   "execution_count": null,
   "id": "9f08a83b-898a-45f0-8388-689e66c1315a",
   "metadata": {},
   "outputs": [],
   "source": []
  }
 ],
 "metadata": {},
 "nbformat": 4,
 "nbformat_minor": 5
}
