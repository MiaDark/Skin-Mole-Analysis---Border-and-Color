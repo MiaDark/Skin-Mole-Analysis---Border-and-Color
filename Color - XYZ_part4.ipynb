{
 "cells": [
  {
   "cell_type": "code",
   "execution_count": null,
   "id": "8096dec4-d3ef-43ac-ba07-fc82f35d5d1e",
   "metadata": {},
   "outputs": [],
   "source": []
  }
 ],
 "metadata": {},
 "nbformat": 4,
 "nbformat_minor": 5
}
